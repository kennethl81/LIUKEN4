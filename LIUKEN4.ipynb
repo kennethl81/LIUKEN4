{
 "cells": [
  {
   "cell_type": "code",
   "execution_count": 1,
   "metadata": {},
   "outputs": [
    {
     "name": "stdout",
     "output_type": "stream",
     "text": [
      "Extracting data from finance.yahoo\n",
      "Creating data frames for historical and dividend data...\n",
      "Combining data frames...\n",
      "Data frames combined\n",
      "Bokeh Chart is displayed in Browser\n"
     ]
    }
   ],
   "source": [
    "import LIUKEN4\n",
    "\n",
    "#firstParam= number of days from today's date, secondParam= stock symbol\n",
    "LIUKEN4.main(60, \"EXPE\")"
   ]
  },
  {
   "cell_type": "code",
   "execution_count": null,
   "metadata": {},
   "outputs": [],
   "source": []
  },
  {
   "cell_type": "code",
   "execution_count": null,
   "metadata": {},
   "outputs": [],
   "source": []
  }
 ],
 "metadata": {
  "kernelspec": {
   "display_name": "Python 3",
   "language": "python",
   "name": "python3"
  },
  "language_info": {
   "codemirror_mode": {
    "name": "ipython",
    "version": 3
   },
   "file_extension": ".py",
   "mimetype": "text/x-python",
   "name": "python",
   "nbconvert_exporter": "python",
   "pygments_lexer": "ipython3",
   "version": "3.6.3"
  }
 },
 "nbformat": 4,
 "nbformat_minor": 1
}
